{
 "cells": [
  {
   "cell_type": "markdown",
   "metadata": {},
   "source": [
    "1.1 Write a Python Program(with class concepts) to find the area of the triangle using the below\n",
    "formula.\n",
    "area = (s*(s-a)*(s-b)*(s-c)) ** 0.5\n",
    "Function to take the length of the sides of triangle from user should be defined in the parent\n",
    "class and function to calculate the area should be defined in subclass."
   ]
  },
  {
   "cell_type": "code",
   "execution_count": 39,
   "metadata": {},
   "outputs": [],
   "source": [
    "class triangle:\n",
    "    def __init__(self,a,b,c):\n",
    "        self.a=a\n",
    "        self.b=b\n",
    "        self.c=c\n",
    "        \n",
    "    def test(self):\n",
    "        return \"These are sides of traingle:%.2f,%.2f,%.2f\" %(self.a,self.b,self.c)"
   ]
  },
  {
   "cell_type": "code",
   "execution_count": 43,
   "metadata": {},
   "outputs": [
    {
     "data": {
      "text/plain": [
       "'Area is: 1062.35'"
      ]
     },
     "execution_count": 43,
     "metadata": {},
     "output_type": "execute_result"
    }
   ],
   "source": [
    "\n",
    "class tra_sides(triangle):\n",
    "    def __init__(self,a,b,c):\n",
    "        triangle.__init__(self,a,b,c)\n",
    "        self.a=a\n",
    "        self.b=b\n",
    "        self.c=c\n",
    "        \n",
    "    def area(self):\n",
    "        s=((self.a+self.b+self.c)/2)\n",
    "        return \"Area is: %.2f\" %((s*(s-self.a)*(s-self.b)*(s-self.c))**0.5)\n",
    "    \n",
    "    \n",
    "obj=tra_sides(89,25,85)\n",
    "obj.area()\n"
   ]
  },
  {
   "cell_type": "markdown",
   "metadata": {},
   "source": [
    "1.2 Write a function filter_long_words() that takes a list of words and an integer n and returns\n",
    "the list of words that are longer than n."
   ]
  },
  {
   "cell_type": "code",
   "execution_count": 118,
   "metadata": {},
   "outputs": [
    {
     "name": "stdout",
     "output_type": "stream",
     "text": [
      "Enter string:sgd shgk sdkjh dsjhlnlkds sdjkfh skdjhfu fa\n",
      "Enter integer n:5\n",
      "['sdkjh', 'dsjhlnlkds', 'sdjkfh', 'skdjhfu']\n"
     ]
    }
   ],
   "source": [
    "def filter_long_words(string,n):\n",
    "    words=[]\n",
    "    a=string.split(\" \")\n",
    "    for i in a:\n",
    "        if len(i)>n:\n",
    "            words.append(i)\n",
    "    return words\n",
    "    \n",
    "a=input(\"Enter string:\")\n",
    "n=int(input(\"Enter integer n:\"))\n",
    "b=filter_long_words(a,4)\n",
    "print(b)\n"
   ]
  },
  {
   "cell_type": "markdown",
   "metadata": {},
   "source": [
    "2.1 Write a Python program using function concept that maps list of words into a list of integers\n",
    "representing the lengths of the corresponding words.\n",
    "Hint: If a list [ ab,cde,erty] is passed on to the python function output should come as [2,3,4]\n",
    "Here 2,3 and 4 are the lengths of the words in the list."
   ]
  },
  {
   "cell_type": "code",
   "execution_count": 5,
   "metadata": {},
   "outputs": [
    {
     "data": {
      "text/plain": [
       "[2, 3, 4]"
      ]
     },
     "execution_count": 5,
     "metadata": {},
     "output_type": "execute_result"
    }
   ],
   "source": [
    "def word_count(l):\n",
    "    count=[]\n",
    "    for i in range(len(l)):\n",
    "        count.append(len(l[i]))\n",
    "    return count\n",
    "\n",
    "l=['ab','cde','erty']\n",
    "a=word_count(l)\n",
    "a"
   ]
  },
  {
   "cell_type": "markdown",
   "metadata": {},
   "source": [
    "2.2 Write a Python function which takes a character (i.e. a string of length 1) and returns True if\n",
    "it is a vowel, False otherwise.\n"
   ]
  },
  {
   "cell_type": "code",
   "execution_count": 30,
   "metadata": {},
   "outputs": [
    {
     "name": "stdout",
     "output_type": "stream",
     "text": [
      "Enter a character:I\n"
     ]
    },
    {
     "data": {
      "text/plain": [
       "True"
      ]
     },
     "execution_count": 30,
     "metadata": {},
     "output_type": "execute_result"
    }
   ],
   "source": [
    "def check_vowel(char):\n",
    "    for i in range(len(char)):\n",
    "        if char.lower() in 'aieou':\n",
    "            return True\n",
    "        else:\n",
    "            return False\n",
    "        \n",
    "a=input(\"Enter a character:\")\n",
    "check_vowel(a)"
   ]
  }
 ],
 "metadata": {
  "kernelspec": {
   "display_name": "Python 3",
   "language": "python",
   "name": "python3"
  },
  "language_info": {
   "codemirror_mode": {
    "name": "ipython",
    "version": 3
   },
   "file_extension": ".py",
   "mimetype": "text/x-python",
   "name": "python",
   "nbconvert_exporter": "python",
   "pygments_lexer": "ipython3",
   "version": "3.8.5"
  }
 },
 "nbformat": 4,
 "nbformat_minor": 4
}
